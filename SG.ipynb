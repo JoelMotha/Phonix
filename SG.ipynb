{
 "cells": [
  {
   "cell_type": "code",
   "execution_count": 1,
   "id": "58e84033",
   "metadata": {},
   "outputs": [
    {
     "name": "stdout",
     "output_type": "stream",
     "text": [
      "Defaulting to user installation because normal site-packages is not writeable\n",
      "Requirement already satisfied: beautifulsoup4 in c:\\programdata\\anaconda3\\lib\\site-packages (4.12.3)\n",
      "Requirement already satisfied: requests in c:\\programdata\\anaconda3\\lib\\site-packages (2.32.3)\n",
      "Collecting fake-useragent\n",
      "  Downloading fake_useragent-2.2.0-py3-none-any.whl.metadata (17 kB)\n",
      "Requirement already satisfied: soupsieve>1.2 in c:\\programdata\\anaconda3\\lib\\site-packages (from beautifulsoup4) (2.5)\n",
      "Requirement already satisfied: charset-normalizer<4,>=2 in c:\\programdata\\anaconda3\\lib\\site-packages (from requests) (3.3.2)\n",
      "Requirement already satisfied: idna<4,>=2.5 in c:\\users\\joel\\appdata\\roaming\\python\\python312\\site-packages (from requests) (2.10)\n",
      "Requirement already satisfied: urllib3<3,>=1.21.1 in c:\\programdata\\anaconda3\\lib\\site-packages (from requests) (2.2.3)\n",
      "Requirement already satisfied: certifi>=2017.4.17 in c:\\users\\joel\\appdata\\roaming\\python\\python312\\site-packages (from requests) (2025.1.31)\n",
      "Downloading fake_useragent-2.2.0-py3-none-any.whl (161 kB)\n",
      "Installing collected packages: fake-useragent\n",
      "Successfully installed fake-useragent-2.2.0\n",
      "Note: you may need to restart the kernel to use updated packages.\n"
     ]
    },
    {
     "name": "stderr",
     "output_type": "stream",
     "text": [
      "\n",
      "[notice] A new release of pip is available: 25.0.1 -> 25.1.1\n",
      "[notice] To update, run: python.exe -m pip install --upgrade pip\n"
     ]
    }
   ],
   "source": [
    "pip install beautifulsoup4 requests fake-useragent"
   ]
  },
  {
   "cell_type": "code",
   "execution_count": 13,
   "id": "d6c9c1ea",
   "metadata": {},
   "outputs": [
    {
     "name": "stdout",
     "output_type": "stream",
     "text": [
      "(1020, 11)\n",
      "Index(['model', 'price', 'rating', 'sim', 'processor', 'ram', 'battery',\n",
      "       'display', 'camera', 'card', 'os'],\n",
      "      dtype='object')\n",
      "                       model   price  rating  \\\n",
      "0              OnePlus 11 5G  54,999    89.0   \n",
      "1  OnePlus Nord CE 2 Lite 5G  19,989    81.0   \n",
      "2      Samsung Galaxy A14 5G  16,499    75.0   \n",
      "3       Motorola Moto G62 5G  14,999    81.0   \n",
      "4         Realme 10 Pro Plus  24,999    82.0   \n",
      "\n",
      "                                       sim  \\\n",
      "0  Dual Sim, 3G, 4G, 5G, VoLTE, Wi-Fi, NFC   \n",
      "1       Dual Sim, 3G, 4G, 5G, VoLTE, Wi-Fi   \n",
      "2       Dual Sim, 3G, 4G, 5G, VoLTE, Wi-Fi   \n",
      "3       Dual Sim, 3G, 4G, 5G, VoLTE, Wi-Fi   \n",
      "4       Dual Sim, 3G, 4G, 5G, VoLTE, Wi-Fi   \n",
      "\n",
      "                                         processor                        ram  \\\n",
      "0  Snapdragon 8 Gen2, Octa Core, 3.2 GHz Processor  12 GB RAM, 256 GB inbuilt   \n",
      "1     Snapdragon 695, Octa Core, 2.2 GHz Processor   6 GB RAM, 128 GB inbuilt   \n",
      "2        Exynos 1330, Octa Core, 2.4 GHz Processor    4 GB RAM, 64 GB inbuilt   \n",
      "3    Snapdragon  695, Octa Core, 2.2 GHz Processor   6 GB RAM, 128 GB inbuilt   \n",
      "4     Dimensity 1080, Octa Core, 2.6 GHz Processor   6 GB RAM, 128 GB inbuilt   \n",
      "\n",
      "                                    battery  \\\n",
      "0  5000 mAh Battery with 100W Fast Charging   \n",
      "1   5000 mAh Battery with 33W Fast Charging   \n",
      "2   5000 mAh Battery with 15W Fast Charging   \n",
      "3       5000 mAh Battery with Fast Charging   \n",
      "4   5000 mAh Battery with 67W Fast Charging   \n",
      "\n",
      "                                             display  \\\n",
      "0  6.7 inches, 1440 x 3216 px, 120 Hz Display wit...   \n",
      "1  6.59 inches, 1080 x 2412 px, 120 Hz Display wi...   \n",
      "2  6.6 inches, 1080 x 2408 px, 90 Hz Display with...   \n",
      "3  6.55 inches, 1080 x 2400 px, 120 Hz Display wi...   \n",
      "4  6.7 inches, 1080 x 2412 px, 120 Hz Display wit...   \n",
      "\n",
      "                                              camera  \\\n",
      "0  50 MP + 48 MP + 32 MP Triple Rear & 16 MP Fron...   \n",
      "1  64 MP + 2 MP + 2 MP Triple Rear & 16 MP Front ...   \n",
      "2  50 MP + 2 MP + 2 MP Triple Rear & 13 MP Front ...   \n",
      "3  50 MP + 8 MP + 2 MP Triple Rear & 16 MP Front ...   \n",
      "4  108 MP + 8 MP + 2 MP Triple Rear & 16 MP Front...   \n",
      "\n",
      "                               card           os  \n",
      "0         Memory Card Not Supported  Android v13  \n",
      "1   Memory Card (Hybrid), upto 1 TB  Android v12  \n",
      "2  Memory Card Supported, upto 1 TB  Android v13  \n",
      "3   Memory Card (Hybrid), upto 1 TB  Android v12  \n",
      "4         Memory Card Not Supported  Android v13  \n",
      "    price  price_clean                        ram  ram_clean\n",
      "0  54,999        54999  12 GB RAM, 256 GB inbuilt       12.0\n",
      "1  19,989        19989   6 GB RAM, 128 GB inbuilt        6.0\n",
      "2  16,499        16499    4 GB RAM, 64 GB inbuilt        4.0\n",
      "3  14,999        14999   6 GB RAM, 128 GB inbuilt        6.0\n",
      "4  24,999        24999   6 GB RAM, 128 GB inbuilt        6.0\n"
     ]
    }
   ],
   "source": [
    "import pandas as pd\n",
    "import re\n",
    "\n",
    "# Load dataset\n",
    "df = pd.read_csv('smartphones_cleaned.csv')\n",
    "\n",
    "# View basic info\n",
    "print(df.shape)\n",
    "print(df.columns)\n",
    "print(df.head())\n",
    "\n",
    "# Example: Clean and normalize price column (remove currency symbols, commas, convert to int)\n",
    "def clean_price(price):\n",
    "    if pd.isnull(price):\n",
    "        return None\n",
    "    price = str(price)\n",
    "    price = re.sub(r'[^\\d]', '', price)  # Remove anything not digit\n",
    "    return int(price) if price else None\n",
    "\n",
    "df['price_clean'] = df['price'].apply(clean_price)\n",
    "\n",
    "# Normalize RAM column (e.g. '6GB' -> 6)\n",
    "def clean_ram(ram):\n",
    "    if pd.isnull(ram):\n",
    "        return None\n",
    "    ram = str(ram).upper()\n",
    "    match = re.search(r'(\\d+)', ram)\n",
    "    return int(match.group(1)) if match else None\n",
    "\n",
    "df['ram_clean'] = df['ram'].apply(clean_ram)\n",
    "\n",
    "# Similarly, clean storage, battery, camera specs as needed\n",
    "\n",
    "print(df[['price', 'price_clean', 'ram', 'ram_clean']].head())"
   ]
  },
  {
   "cell_type": "code",
   "execution_count": null,
   "id": "bf467c05",
   "metadata": {},
   "outputs": [
    {
     "name": "stdout",
     "output_type": "stream",
     "text": [
      "model            0\n",
      "price            0\n",
      "rating         141\n",
      "sim              0\n",
      "processor        0\n",
      "ram              0\n",
      "battery          0\n",
      "display          0\n",
      "camera           1\n",
      "card             7\n",
      "os              17\n",
      "price_clean      0\n",
      "ram_clean        1\n",
      "dtype: int64\n"
     ]
    }
   ],
   "source": [
    "print(df.isnull().sum())"
   ]
  },
  {
   "cell_type": "code",
   "execution_count": 14,
   "id": "833a7549",
   "metadata": {},
   "outputs": [
    {
     "name": "stdout",
     "output_type": "stream",
     "text": [
      "model          0\n",
      "price          0\n",
      "rating         0\n",
      "sim            0\n",
      "processor      0\n",
      "ram            0\n",
      "battery        0\n",
      "display        0\n",
      "camera         0\n",
      "card           0\n",
      "os             0\n",
      "price_clean    0\n",
      "ram_clean      0\n",
      "dtype: int64\n"
     ]
    }
   ],
   "source": [
    "# Fill missing rating with \"N/A\" or average\n",
    "df['rating'] = df['rating'].fillna('N/A')\n",
    "\n",
    "# Fill missing camera, card, os with \"Unknown\"\n",
    "df['camera'] = df['camera'].fillna('Unknown')\n",
    "df['card'] = df['card'].fillna('Unknown')\n",
    "df['os'] = df['os'].fillna('Unknown')\n",
    "\n",
    "# Fill missing ram_clean with median RAM value\n",
    "df['ram_clean'] = df['ram_clean'].fillna(df['ram_clean'].median())\n",
    "\n",
    "# Final check\n",
    "print(df.isnull().sum())\n"
   ]
  },
  {
   "cell_type": "code",
   "execution_count": 5,
   "id": "e4c19fcc",
   "metadata": {},
   "outputs": [
    {
     "name": "stdout",
     "output_type": "stream",
     "text": [
      "Conversion successful! 'phones_data.csv' has been created.\n"
     ]
    }
   ],
   "source": [
    "import csv\n",
    "\n",
    "phones = []\n",
    "current_phone = {}\n",
    "fieldnames_order = []  # Keep track of the original feature order\n",
    "\n",
    "with open(\"phones_formatted.txt\", \"r\", encoding=\"utf-8\") as file:\n",
    "    for line in file:\n",
    "        line = line.strip()\n",
    "        if not line:  # Skip empty lines\n",
    "            continue\n",
    "        if \"model:\" in line:  # Detect new phone entry\n",
    "            if current_phone:  # Save previous phone entry\n",
    "                phones.append(current_phone)\n",
    "            current_phone = {}  # Reset for new phone\n",
    "        key_value = line.split(\": \", 1)  # Split key and value\n",
    "        if len(key_value) == 2:\n",
    "            key = key_value[0].strip().replace('\"', '')  # Remove unexpected quotes\n",
    "            value = key_value[1].strip()\n",
    "            \n",
    "            if key not in fieldnames_order:\n",
    "                fieldnames_order.append(key)  # Preserve order of first appearance\n",
    "            \n",
    "            current_phone[key] = value\n",
    "\n",
    "    if current_phone:  # Save last phone entry\n",
    "        phones.append(current_phone)\n",
    "\n",
    "# Write to CSV file with fieldnames in preserved order\n",
    "with open(\"phones_data.csv\", \"w\", encoding=\"utf-8\", newline=\"\") as csvfile:\n",
    "    writer = csv.DictWriter(csvfile, fieldnames=fieldnames_order)\n",
    "    writer.writeheader()\n",
    "    writer.writerows(phones)\n",
    "\n",
    "print(\"Conversion successful! 'phones_data.csv' has been created.\")"
   ]
  },
  {
   "cell_type": "code",
   "execution_count": 6,
   "id": "07ca059a",
   "metadata": {},
   "outputs": [
    {
     "name": "stdout",
     "output_type": "stream",
     "text": [
      "Columns with only 'Not specified' values have been removed. Saved as 'phones_data_filtered.csv'.\n"
     ]
    }
   ],
   "source": [
    "import pandas as pd\n",
    "\n",
    "# Load the CSV file\n",
    "df = pd.read_csv(\"phones_data.csv\")\n",
    "\n",
    "# Remove columns where all values are \"Not specified\"\n",
    "df_cleaned = df.loc[:, (df != \"Not specified\").any()]\n",
    "\n",
    "# Save the cleaned CSV\n",
    "df_cleaned.to_csv(\"phones_data_filtered.csv\", index=False)\n",
    "\n",
    "print(\"Columns with only 'Not specified' values have been removed. Saved as 'phones_data_filtered.csv'.\")"
   ]
  },
  {
   "cell_type": "code",
   "execution_count": null,
   "id": "071e74eb",
   "metadata": {},
   "outputs": [],
   "source": []
  }
 ],
 "metadata": {
  "kernelspec": {
   "display_name": "base",
   "language": "python",
   "name": "python3"
  },
  "language_info": {
   "codemirror_mode": {
    "name": "ipython",
    "version": 3
   },
   "file_extension": ".py",
   "mimetype": "text/x-python",
   "name": "python",
   "nbconvert_exporter": "python",
   "pygments_lexer": "ipython3",
   "version": "3.12.7"
  }
 },
 "nbformat": 4,
 "nbformat_minor": 5
}
